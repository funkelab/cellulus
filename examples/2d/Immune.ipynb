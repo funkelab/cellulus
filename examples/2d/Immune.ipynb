{
 "cells": [
  {
   "cell_type": "code",
   "execution_count": 1,
   "id": "5e80fa63",
   "metadata": {},
   "outputs": [],
   "source": [
    "from cellulus.utils.utils import extract_data"
   ]
  },
  {
   "cell_type": "markdown",
   "id": "dfc2d407",
   "metadata": {},
   "source": [
    "### Download Data"
   ]
  },
  {
   "cell_type": "markdown",
   "id": "02162276",
   "metadata": {},
   "source": [
    "The `TissueNet` dataset, `Version 1.0` was downloaded from the DeepCell website at [this](https://datasets.deepcell.org/data) url. <br>The original data contained data for multiple tissue types and was available as numpy zipped files (`*.npz`). <br> We extracted the subset fo data corresponding to `Immune` tissue type, re-saved the dataset as `zarr` files.<br> This data can be downloaded from `zarr_url` to the `data_dir` location, using the `extract_data` method."
   ]
  },
  {
   "cell_type": "code",
   "execution_count": 2,
   "id": "211f1f5b",
   "metadata": {},
   "outputs": [],
   "source": [
    "data_dir = './'"
   ]
  },
  {
   "cell_type": "code",
   "execution_count": 3,
   "id": "50a90f54",
   "metadata": {},
   "outputs": [
    {
     "name": "stdout",
     "output_type": "stream",
     "text": [
      "Unzipped and downloaded data to ./\n"
     ]
    }
   ],
   "source": [
    "extract_data(\n",
    "    #zarr_url = 'https://github.com/funkelab/cellulus/releases/download/v0.0.1/Immune.zip',\n",
    "    zarr_url = 'https://github.com/lmanan/FSD/releases/download/v0.0.1-tag/Immune.zip',\n",
    "    data_dir = data_dir,\n",
    ")"
   ]
  },
  {
   "cell_type": "code",
   "execution_count": null,
   "id": "3814c3ed",
   "metadata": {},
   "outputs": [],
   "source": [
    "### "
   ]
  }
 ],
 "metadata": {
  "kernelspec": {
   "display_name": "Python 3 (ipykernel)",
   "language": "python",
   "name": "python3"
  },
  "language_info": {
   "codemirror_mode": {
    "name": "ipython",
    "version": 3
   },
   "file_extension": ".py",
   "mimetype": "text/x-python",
   "name": "python",
   "nbconvert_exporter": "python",
   "pygments_lexer": "ipython3",
   "version": "3.9.16"
  }
 },
 "nbformat": 4,
 "nbformat_minor": 5
}
